{
 "cells": [
  {
   "cell_type": "code",
   "execution_count": null,
   "id": "7d6d9dd8-1738-4af7-ae57-e7deeb66dd44",
   "metadata": {},
   "outputs": [],
   "source": [
    "# 1. Setting the working directory\n",
    "import os\n",
    "os.chdir(\"C:\\\\Users\\\\user\\\\Desktop\\\\VCU\\\\BOOT CAMP\\\\SCMA-632-C51 - STATISTICL ANALYSIS & MODELING\\\\VCU_christ\")\n",
    "\n",
    "# 2. Installing and Importing Necessary Libraries\n",
    "import pandas as pd\n",
    "import numpy as np\n",
    "import matplotlib.pyplot as plt\n",
    "from statsmodels.stats import weightstats as stests\n",
    "\n",
    "# 3. Reading the dataset\n",
    "df = pd.read_csv(\"NSSO68.csv\", encoding=\"Latin-1\", low_memory=False)"
   ]
  },
  {
   "cell_type": "code",
   "execution_count": null,
   "id": "efbf00ab-0c83-4f86-8d40-9666fb2e6764",
   "metadata": {},
   "outputs": [],
   "source": [
    "# 4. Filtering data for Nagaland\n",
    "state_data = df[df['state_1'] == \"NAG\"]\n",
    "state_data.to_csv(\"C:/Users/user/Desktop/VCU/BOOT CAMP/SCMA-632-C51 - STATISTICL ANALYSIS & MODELING/VCU_christ/nagaland_data.csv\", index=False)\n"
   ]
  },
  {
   "cell_type": "code",
   "execution_count": null,
   "id": "675fd083-3174-483f-b381-1aa03c5f1fdc",
   "metadata": {},
   "outputs": [],
   "source": [
    "# 5. Display dataset information\n",
    "print(\"Dataset Information:\\n\")\n",
    "print(\"Column Names:\")\n",
    "print(state_data.columns.tolist())\n",
    "print(\"\\nFirst 5 Rows:\")\n",
    "print(state_data.head())\n",
    "print(\"\\nDimensions (rows, columns):\")\n",
    "print(state_data.shape)\n",
    "print(\"\\nTotal Missing Values:\")\n",
    "print(state_data.isna().sum().sum())"
   ]
  },
  {
   "cell_type": "code",
   "execution_count": 15,
   "id": "b70b5345-5049-4d1f-8df4-e0e47f80222d",
   "metadata": {},
   "outputs": [
    {
     "name": "stdout",
     "output_type": "stream",
     "text": [
      "Missing Values per Column (Descending Order):\n",
      "\n",
      "soyabean_q        1024\n",
      "soyabean_v        1024\n",
      "Meals_School      1011\n",
      "Meals_Employer    1006\n",
      "Meals_Others       949\n",
      "                  ... \n",
      "carrot_q             0\n",
      "radish_q             0\n",
      "brinjal_q            0\n",
      "tamato_q             0\n",
      "fv_tot               0\n",
      "Length: 384, dtype: int64\n"
     ]
    }
   ],
   "source": [
    "# 6. Check for missing values in each column\n",
    "missing_values = state_data.isnull().sum().sort_values(ascending=False)\n",
    "print(\"Missing Values per Column (Descending Order):\\n\")\n",
    "print(missing_values)\n",
    "\n",
    "# 7. Subsetting the dataset\n",
    "state_subset = state_data[[\n",
    "    'state_1', 'District', 'Region', 'Sector', 'State_Region',\n",
    "    'Meals_At_Home', 'ricetotal_v', 'wheattotal_v', 'Milktotal_v',\n",
    "    'pulsestot_v', 'nonvegtotal_v', 'fruitstt_v', 'No_of_Meals_per_day'\n",
    "]]"
   ]
  },
  {
   "cell_type": "code",
   "execution_count": 17,
   "id": "d38d6c06-04ea-4d4b-8028-9d479b8ac438",
   "metadata": {},
   "outputs": [
    {
     "name": "stdout",
     "output_type": "stream",
     "text": [
      "🔍 Missing Values Before Imputation:\n",
      "\n",
      "state_1                0\n",
      "District               0\n",
      "Region                 0\n",
      "Sector                 0\n",
      "State_Region           0\n",
      "Meals_At_Home          1\n",
      "ricetotal_v            0\n",
      "wheattotal_v           0\n",
      "Milktotal_v            0\n",
      "pulsestot_v            0\n",
      "nonvegtotal_v          0\n",
      "fruitstt_v             0\n",
      "No_of_Meals_per_day    0\n",
      "dtype: int64\n",
      "\n",
      "✅ Missing Values After Imputation:\n",
      "\n",
      "state_1                0\n",
      "District               0\n",
      "Region                 0\n",
      "Sector                 0\n",
      "State_Region           0\n",
      "Meals_At_Home          0\n",
      "ricetotal_v            0\n",
      "wheattotal_v           0\n",
      "Milktotal_v            0\n",
      "pulsestot_v            0\n",
      "nonvegtotal_v          0\n",
      "fruitstt_v             0\n",
      "No_of_Meals_per_day    0\n",
      "dtype: int64\n",
      "\n",
      "📋 Columns in the Cleaned Dataset:\n",
      "['state_1', 'District', 'Region', 'Sector', 'State_Region', 'Meals_At_Home', 'ricetotal_v', 'wheattotal_v', 'Milktotal_v', 'pulsestot_v', 'nonvegtotal_v', 'fruitstt_v', 'No_of_Meals_per_day']\n"
     ]
    }
   ],
   "source": [
    "# 8. Impute missing values with mean\n",
    "print(\" Missing Values Before Imputation:\\n\")\n",
    "print(state_subset.isna().sum())\n",
    "\n",
    "state_cleaned = state_subset.fillna(state_subset.mean(numeric_only=True))\n",
    "\n",
    "print(\"\\n Missing Values After Imputation:\\n\")\n",
    "print(state_cleaned.isna().sum())\n",
    "\n",
    "# 9. Removing outliers using IQR\n",
    "def remove_outliers(df, column_name):\n",
    "    Q1 = df[column_name].quantile(0.25)\n",
    "    Q3 = df[column_name].quantile(0.75)\n",
    "    IQR = Q3 - Q1\n",
    "    lower_threshold = Q1 - 1.5 * IQR\n",
    "    upper_threshold = Q3 + 1.5 * IQR\n",
    "    return df[(df[column_name] >= lower_threshold) & (df[column_name] <= upper_threshold)]\n",
    "\n",
    "outlier_columns = [\n",
    "    'Meals_At_Home', 'ricetotal_v', 'wheattotal_v', 'Milktotal_v',\n",
    "    'pulsestot_v', 'nonvegtotal_v', 'fruitstt_v', 'No_of_Meals_per_day'\n",
    "]\n",
    "\n",
    "for col in outlier_columns:\n",
    "    state_cleaned = remove_outliers(state_cleaned, col)\n",
    "\n",
    "print(\"\\n📋 Columns in the Cleaned Dataset:\")\n",
    "print(state_cleaned.columns.tolist())"
   ]
  },
  {
   "cell_type": "code",
   "execution_count": 25,
   "id": "9476ea8f-b624-4116-96e7-07ada796ef4a",
   "metadata": {},
   "outputs": [
    {
     "name": "stdout",
     "output_type": "stream",
     "text": [
      "\n",
      " Top 4 Consuming Districts:\n",
      "     District  total_consumption\n",
      "4  Mokokchung       45476.929762\n",
      "2      Kohima       38150.321428\n",
      "5         Mon       31954.354762\n",
      "8    Tuensang       30952.435714\n",
      "\n",
      " Region Consumption Summary:\n",
      "   Region  total_consumption\n",
      "0       1      321038.960714\n",
      "\n",
      " Sector Consumption Summary:\n",
      "  Sector  total_consumption\n",
      "0  RURAL      209952.501190\n",
      "1  URBAN      111086.459524\n",
      "\n",
      " Bottom 4 Consuming Districts:\n",
      "   District  total_consumption\n",
      "3  Longleng       26528.561905\n",
      "1   Kiphire       23318.038095\n",
      "9     Wokha       19026.159524\n",
      "6     Peren       18259.480952\n"
     ]
    }
   ],
   "source": [
    "# 10. Create total consumption variable\n",
    "state_cleaned['total_consumption'] = state_cleaned[[\n",
    "    'ricetotal_v', 'wheattotal_v', 'Milktotal_v',\n",
    "    'pulsestot_v', 'nonvegtotal_v', 'fruitstt_v'\n",
    "]].sum(axis=1)\n",
    "\n",
    "# 11. Summarize consumption\n",
    "def summarize_consumption(df, group_col):\n",
    "    summary = df.groupby(group_col)['total_consumption'].sum().reset_index()\n",
    "    summary = summary.sort_values(by='total_consumption', ascending=False)\n",
    "    return summary\n",
    "\n",
    "district_summary = summarize_consumption(state_cleaned, 'District')\n",
    "region_summary = summarize_consumption(state_cleaned, 'Region')\n",
    "sector_summary = summarize_consumption(state_cleaned, 'Sector')\n",
    "\n",
    "print(\"\\n Top 4 Consuming Districts:\")\n",
    "print(district_summary.head(4))\n",
    "print(\"\\n Region Consumption Summary:\")\n",
    "print(region_summary)\n",
    "print(\"\\n Sector Consumption Summary:\")\n",
    "print(sector_summary)\n",
    "print(\"\\n Bottom 4 Consuming Districts:\")\n",
    "print(district_summary.tail(4))\n"
   ]
  },
  {
   "cell_type": "code",
   "execution_count": 23,
   "id": "a0e335ba-a84c-4b91-8402-fefee8560b46",
   "metadata": {},
   "outputs": [
    {
     "name": "stdout",
     "output_type": "stream",
     "text": [
      "\n",
      " Updated District Summary (After Mapping):\n",
      "     District  total_consumption\n",
      "4  Mokokchung       45476.929762\n",
      "2      Kohima       38150.321428\n",
      "5         Mon       31954.354762\n",
      "8    Tuensang       30952.435714\n",
      "\n",
      " Region Summary:\n",
      "   Region  total_consumption\n",
      "0       1      321038.960714\n",
      "\n",
      " Sector Summary:\n",
      "  Sector  total_consumption\n",
      "0  RURAL      209952.501190\n",
      "1  URBAN      111086.459524\n"
     ]
    }
   ],
   "source": [
    "# 12. Rename district and sector codes\n",
    "state_cleaned['District'] = state_cleaned['District'].astype(str)\n",
    "state_cleaned['Sector'] = state_cleaned['Sector'].astype(str)\n",
    "\n",
    "district_mapping = {\n",
    "    \"1\": \"Mon\", \"2\": \"Tuensang\", \"3\": \"Mokokchung\", \"4\": \"Zunheboto\",\n",
    "    \"5\": \"Wokha\", \"6\": \"Dimapur\", \"7\": \"Kohima\", \"8\": \"Phek\",\n",
    "    \"9\": \"Kiphire\", \"10\": \"Longleng\", \"11\": \"Peren\"\n",
    "}\n",
    "sector_mapping = {\"1\": \"RURAL\", \"2\": \"URBAN\"}\n",
    "\n",
    "state_cleaned['District'] = state_cleaned['District'].map(district_mapping).fillna(state_cleaned['District'])\n",
    "state_cleaned['Sector'] = state_cleaned['Sector'].map(sector_mapping).fillna(state_cleaned['Sector'])\n",
    "\n",
    "# Updated summaries\n",
    "district_summary = summarize_consumption(state_cleaned, 'District')\n",
    "region_summary = summarize_consumption(state_cleaned, 'Region')\n",
    "sector_summary = summarize_consumption(state_cleaned, 'Sector')\n",
    "\n",
    "print(\"\\n Updated District Summary (After Mapping):\")\n",
    "print(district_summary.head(4))\n",
    "print(\"\\n Region Summary:\")\n",
    "print(region_summary)\n",
    "print(\"\\n Sector Summary:\")\n",
    "print(sector_summary)\n"
   ]
  },
  {
   "cell_type": "code",
   "execution_count": 1,
   "id": "c60db663-b704-4f94-a3ac-f5c948c8be08",
   "metadata": {},
   "outputs": [
    {
     "ename": "NameError",
     "evalue": "name 'state_cleaned' is not defined",
     "output_type": "error",
     "traceback": [
      "\u001b[1;31m---------------------------------------------------------------------------\u001b[0m",
      "\u001b[1;31mNameError\u001b[0m                                 Traceback (most recent call last)",
      "Cell \u001b[1;32mIn[1], line 2\u001b[0m\n\u001b[0;32m      1\u001b[0m \u001b[38;5;66;03m# 13. Z-Test: Urban vs Rural\u001b[39;00m\n\u001b[1;32m----> 2\u001b[0m consumption_rural \u001b[38;5;241m=\u001b[39m state_cleaned[state_cleaned[\u001b[38;5;124m'\u001b[39m\u001b[38;5;124mSector\u001b[39m\u001b[38;5;124m'\u001b[39m] \u001b[38;5;241m==\u001b[39m \u001b[38;5;124m'\u001b[39m\u001b[38;5;124mRURAL\u001b[39m\u001b[38;5;124m'\u001b[39m][\u001b[38;5;124m'\u001b[39m\u001b[38;5;124mtotal_consumption\u001b[39m\u001b[38;5;124m'\u001b[39m]\n\u001b[0;32m      3\u001b[0m consumption_urban \u001b[38;5;241m=\u001b[39m state_cleaned[state_cleaned[\u001b[38;5;124m'\u001b[39m\u001b[38;5;124mSector\u001b[39m\u001b[38;5;124m'\u001b[39m] \u001b[38;5;241m==\u001b[39m \u001b[38;5;124m'\u001b[39m\u001b[38;5;124mURBAN\u001b[39m\u001b[38;5;124m'\u001b[39m][\u001b[38;5;124m'\u001b[39m\u001b[38;5;124mtotal_consumption\u001b[39m\u001b[38;5;124m'\u001b[39m]\n\u001b[0;32m      5\u001b[0m z_statistic, p_value \u001b[38;5;241m=\u001b[39m stests\u001b[38;5;241m.\u001b[39mztest(consumption_rural, consumption_urban, alternative\u001b[38;5;241m=\u001b[39m\u001b[38;5;124m'\u001b[39m\u001b[38;5;124mtwo-sided\u001b[39m\u001b[38;5;124m'\u001b[39m)\n",
      "\u001b[1;31mNameError\u001b[0m: name 'state_cleaned' is not defined"
     ]
    }
   ],
   "source": [
    "# 13. Z-Test: Urban vs Rural\n",
    "consumption_rural = state_cleaned[state_cleaned['Sector'] == 'RURAL']['total_consumption']\n",
    "consumption_urban = state_cleaned[state_cleaned['Sector'] == 'URBAN']['total_consumption']\n",
    "\n",
    "z_statistic, p_value = stests.ztest(consumption_rural, consumption_urban, alternative='two-sided')\n",
    "\n",
    "print(\"\\n Z-Test for Rural vs Urban Consumption\")\n",
    "print(\"Z-Score:\", round(z_statistic, 4))\n",
    "print(\"P-Value:\", round(p_value, 4))\n",
    "\n",
    "if p_value < 0.05:\n",
    "    print(\"Significant difference between Rural and Urban mean consumption (Reject H₀)\")\n",
    "else:\n",
    "    print(\"No significant difference between Rural and Urban mean consumption (Fail to reject H₀)\")\n",
    "\n",
    "# 14. Z-Test Between Top and Bottom Consuming Districts\n",
    "top_district = district_summary.head(1).iloc[0]['District']\n",
    "bottom_district = district_summary.tail(1).iloc[0]['District']\n",
    "\n",
    "top_data = state_cleaned[state_cleaned['District'] == top_district]['total_consumption']\n",
    "bottom_data = state_cleaned[state_cleaned['District'] == bottom_district]['total_consumption']\n",
    "\n",
    "z_statistic, p_value = stests.ztest(top_data, bottom_data, alternative='two-sided')\n",
    "\n",
    "print(f\"\\n Z-Test: {top_district} vs {bottom_district}\")\n",
    "print(\"Z-Score:\", round(z_statistic, 4))\n",
    "print(\"P-Value:\", round(p_value, 4))\n",
    "\n",
    "if p_value < 0.05:\n",
    "    print(f\"Significant difference between {top_district} and {bottom_district} mean consumption (Reject H₀)\")\n",
    "else:\n",
    "    print(f\" No significant difference between {top_district} and {bottom_district} mean consumption (Fail to reject H₀)\")\n"
   ]
  }
 ],
 "metadata": {
  "kernelspec": {
   "display_name": "Python [conda env:base] *",
   "language": "python",
   "name": "conda-base-py"
  },
  "language_info": {
   "codemirror_mode": {
    "name": "ipython",
    "version": 3
   },
   "file_extension": ".py",
   "mimetype": "text/x-python",
   "name": "python",
   "nbconvert_exporter": "python",
   "pygments_lexer": "ipython3",
   "version": "3.12.7"
  }
 },
 "nbformat": 4,
 "nbformat_minor": 5
}
